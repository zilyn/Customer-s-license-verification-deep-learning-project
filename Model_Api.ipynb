{
 "cells": [
  {
   "cell_type": "code",
   "execution_count": 12,
   "metadata": {},
   "outputs": [],
   "source": [
    "import requests\n",
    "import json"
   ]
  },
  {
   "cell_type": "code",
   "execution_count": null,
   "metadata": {},
   "outputs": [],
   "source": [
    "# Normal API call with all inputs in correct format\n",
    "\n",
    "url = 'http://127.0.0.1:5000/get_license_status'\n",
    "params = {\n",
    "    'APPLICATION_TYPE': 'RENEW',\n",
    "    'CONDITIONAL_APPROVAL': 'N',\n",
    "    'LICENSE_CODE': 1010,\n",
    "    'SSA': None,\n",
    "    'LEGAL_NAME': 'ALL-BRY CONSTRUCTION CO.',\n",
    "    'DOING_BUSINESS_AS_NAME': 'ALL-BRY CONSTRUCTION CO.',\n",
    "    'ZIP_CODE': 60439,\n",
    "    'APPLICATION_REQUIREMENTS_COMPLETE': '2004-02-10T00:00:00',\n",
    "    'LICENSE_DESCRIPTION': 'Limited Business License'\n",
    "}\n",
    "\n",
    "response = requests.post(url, data=json.dumps(params))\n",
    "print(response.text)\n"
   ]
  },
  {
   "cell_type": "code",
   "execution_count": null,
   "metadata": {},
   "outputs": [],
   "source": []
  },
  {
   "cell_type": "code",
   "execution_count": null,
   "metadata": {},
   "outputs": [],
   "source": []
  }
 ],
 "metadata": {
  "kernelspec": {
   "display_name": "Python 3 (ipykernel)",
   "language": "python",
   "name": "python3"
  },
  "language_info": {
   "codemirror_mode": {
    "name": "ipython",
    "version": 3
   },
   "file_extension": ".py",
   "mimetype": "text/x-python",
   "name": "python",
   "nbconvert_exporter": "python",
   "pygments_lexer": "ipython3",
   "version": "3.11.3"
  }
 },
 "nbformat": 4,
 "nbformat_minor": 4
}
